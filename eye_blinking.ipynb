{
 "cells": [
  {
   "cell_type": "code",
   "execution_count": 1,
   "metadata": {},
   "outputs": [
    {
     "ename": "ModuleNotFoundError",
     "evalue": "No module named 'cv2'",
     "output_type": "error",
     "traceback": [
      "\u001b[1;31m---------------------------------------------------------------------------\u001b[0m",
      "\u001b[1;31mModuleNotFoundError\u001b[0m                       Traceback (most recent call last)",
      "Cell \u001b[1;32mIn[1], line 1\u001b[0m\n\u001b[1;32m----> 1\u001b[0m \u001b[38;5;28;01mimport\u001b[39;00m \u001b[38;5;21;01mcv2\u001b[39;00m\n\u001b[0;32m      2\u001b[0m \u001b[38;5;28;01mimport\u001b[39;00m \u001b[38;5;21;01mtime\u001b[39;00m\n\u001b[0;32m      3\u001b[0m \u001b[38;5;28;01mimport\u001b[39;00m \u001b[38;5;21;01mmediapipe\u001b[39;00m \u001b[38;5;28;01mas\u001b[39;00m \u001b[38;5;21;01mmp\u001b[39;00m\n",
      "\u001b[1;31mModuleNotFoundError\u001b[0m: No module named 'cv2'"
     ]
    }
   ],
   "source": [
    "import cv2\n",
    "import time\n",
    "import mediapipe as mp\n",
    "import numpy as np\n",
    "from scipy.spatial import distance as dist"
   ]
  },
  {
   "cell_type": "markdown",
   "metadata": {},
   "source": [
    "eye blinking"
   ]
  },
  {
   "cell_type": "code",
   "execution_count": 15,
   "metadata": {},
   "outputs": [],
   "source": [
    "import cv2\n",
    "import time\n",
    "import mediapipe as mp\n",
    "import numpy as np\n",
    "from scipy.spatial import distance as dist\n",
    "\n",
    "# Initialize MediaPipe face mesh\n",
    "mp_face_mesh = mp.solutions.face_mesh\n",
    "face_mesh = mp_face_mesh.FaceMesh(max_num_faces=1, refine_landmarks=True, min_detection_confidence=0.5, min_tracking_confidence=0.5)\n",
    "\n",
    "# Initialize drawing utilities\n",
    "mp_drawing = mp.solutions.drawing_utils\n",
    "mp_drawing_styles = mp.solutions.drawing_styles\n",
    "\n",
    "# Eye aspect ratio calculation\n",
    "def calculate_ear(eye):\n",
    "    A = dist.euclidean(eye[1], eye[5])\n",
    "    B = dist.euclidean(eye[2], eye[4])\n",
    "    C = dist.euclidean(eye[0], eye[3])\n",
    "    ear = (A + B) / (2.0 * C)\n",
    "    return ear\n",
    "\n",
    "# Eye landmark indices for the left and right eyes\n",
    "LEFT_EYE_INDICES = [33, 160, 158, 133, 153, 144]\n",
    "RIGHT_EYE_INDICES = [362, 387, 385, 263, 373, 380]\n",
    "\n",
    "# Parameters\n",
    "EAR_THRESHOLD = 0.4  # Increased threshold to be more sensitive to blinks\n",
    "CONSECUTIVE_FRAMES = 2  # Reduced number of frames for faster blink detection\n",
    "BLINK_DURATION_THRESHOLD = 3  # Timer for the eye blink threshold in seconds\n",
    "\n",
    "# Blink detection variables\n",
    "blink_counter = 0\n",
    "blink_total = 0\n",
    "non_blinking_warning = False\n",
    "last_blink_time = time.time()\n",
    "\n",
    "# Start video capture\n",
    "cap = cv2.VideoCapture(0)\n",
    "\n",
    "while cap.isOpened():\n",
    "    success, frame = cap.read()\n",
    "    if not success:\n",
    "        print(\"Ignoring empty camera frame.\")\n",
    "        continue\n",
    "\n",
    "    frame_rgb = cv2.cvtColor(frame, cv2.COLOR_BGR2RGB)\n",
    "    results = face_mesh.process(frame_rgb)\n",
    "    frame = cv2.cvtColor(frame_rgb, cv2.COLOR_RGB2BGR)\n",
    "\n",
    "    if results.multi_face_landmarks:\n",
    "        for face_landmarks in results.multi_face_landmarks:\n",
    "            mp_drawing.draw_landmarks(\n",
    "                image=frame,\n",
    "                landmark_list=face_landmarks,\n",
    "                connections=mp_face_mesh.FACEMESH_TESSELATION,\n",
    "                landmark_drawing_spec=None,\n",
    "                connection_drawing_spec=mp_drawing_styles.get_default_face_mesh_tesselation_style())\n",
    "\n",
    "            # Extract eye landmarks\n",
    "            left_eye = np.array([(face_landmarks.landmark[i].x, face_landmarks.landmark[i].y) for i in LEFT_EYE_INDICES])\n",
    "            right_eye = np.array([(face_landmarks.landmark[i].x, face_landmarks.landmark[i].y) for i in RIGHT_EYE_INDICES])\n",
    "\n",
    "            # Calculate EAR for both eyes\n",
    "            left_ear = calculate_ear(left_eye)\n",
    "            right_ear = calculate_ear(right_eye)\n",
    "            ear = (left_ear + right_ear) / 2.0\n",
    "\n",
    "            # Detect blink\n",
    "            if ear < EAR_THRESHOLD:\n",
    "                blink_counter += 1\n",
    "            else:\n",
    "                if blink_counter >= CONSECUTIVE_FRAMES:\n",
    "                    blink_total += 1\n",
    "                    last_blink_time = time.time()  # Reset the blink timer\n",
    "                    non_blinking_warning = False\n",
    "                blink_counter = 0\n",
    "\n",
    "            # Display EAR and blink count\n",
    "            cv2.putText(frame, f\"EAR: {ear:.2f}\", (30, 30), cv2.FONT_HERSHEY_SIMPLEX, 0.7, (255, 255, 255), 2)\n",
    "            cv2.putText(frame, f\"Blinks: {blink_total}\", (30, 70), cv2.FONT_HERSHEY_SIMPLEX, 0.7, (255, 255, 255), 2)\n",
    "\n",
    "            # Determine if user is currently blinking\n",
    "            if blink_counter >= CONSECUTIVE_FRAMES:\n",
    "                cv2.putText(frame, \"Blinking\", (30, 110), cv2.FONT_HERSHEY_SIMPLEX, 0.7, (0, 255, 0), 2)\n",
    "            else:\n",
    "                cv2.putText(frame, \"Not Blinking\", (30, 110), cv2.FONT_HERSHEY_SIMPLEX, 0.7, (0, 0, 255), 2)\n",
    "\n",
    "            # Check if the user hasn't blinked within the set threshold duration\n",
    "            if time.time() - last_blink_time > BLINK_DURATION_THRESHOLD and not non_blinking_warning:\n",
    "                cv2.putText(frame, \"ALERT: Blink Your Eyes!\", (30, 150), cv2.FONT_HERSHEY_SIMPLEX, 1, (0, 0, 255), 2)\n",
    "                non_blinking_warning = True\n",
    "\n",
    "    # Display the image\n",
    "    cv2.imshow('Face Liveliness Detection', frame)\n",
    "\n",
    "    # Exit if 'q' is pressed\n",
    "    if cv2.waitKey(5) & 0xFF == ord('q'):\n",
    "        break\n",
    "\n",
    "cap.release()\n",
    "cv2.destroyAllWindows()\n"
   ]
  },
  {
   "cell_type": "code",
   "execution_count": null,
   "metadata": {},
   "outputs": [],
   "source": []
  },
  {
   "cell_type": "code",
   "execution_count": null,
   "metadata": {},
   "outputs": [],
   "source": []
  },
  {
   "cell_type": "code",
   "execution_count": null,
   "metadata": {},
   "outputs": [],
   "source": []
  }
 ],
 "metadata": {
  "kernelspec": {
   "display_name": "Python 3",
   "language": "python",
   "name": "python3"
  },
  "language_info": {
   "codemirror_mode": {
    "name": "ipython",
    "version": 3
   },
   "file_extension": ".py",
   "mimetype": "text/x-python",
   "name": "python",
   "nbconvert_exporter": "python",
   "pygments_lexer": "ipython3",
   "version": "3.12.5"
  }
 },
 "nbformat": 4,
 "nbformat_minor": 2
}
